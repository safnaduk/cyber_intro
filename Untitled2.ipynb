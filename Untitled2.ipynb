{
  "nbformat": 4,
  "nbformat_minor": 0,
  "metadata": {
    "colab": {
      "provenance": []
    },
    "kernelspec": {
      "name": "python3",
      "display_name": "Python 3"
    },
    "language_info": {
      "name": "python"
    }
  },
  "cells": [
    {
      "cell_type": "markdown",
      "source": [
        "1) Caesar Cipher\n",
        "\n",
        "The Caesar Cipher is one of the simplest and most widely known encryption techniques. It is a substitution cipher where each letter in the plaintext is shifted a certain number of places down or up the alphabet.\n",
        "\n",
        "Working:\n",
        "\n",
        "1) Encryption:\n",
        "Take the plaintext and a shift value (key).\n",
        "For each letter in the plaintext:\n",
        "Shift the letter in the alphabet by the specified number of positions.\n",
        "Wrap around to the beginning or end of the alphabet if necessary.\n",
        "Generate the ciphertext with the shifted letters.\n",
        "\n",
        "2) Decryption:\n",
        "Take the ciphertext and the same shift value (key) used for encryption.\n",
        "For each letter in the ciphertext:\n",
        "Shift the letter in the reverse direction by the specified number of positions.\n",
        "Wrap around to the beginning or end of the alphabet if necessary.\n",
        "\\Generate the plaintext with the shifted letters."
      ],
      "metadata": {
        "id": "8hZY6QpJkRPD"
      }
    },
    {
      "cell_type": "code",
      "source": [
        "def caesar_cipher_encrypt(text, shift):\n",
        "    encrypted_text = ''\n",
        "    for char in text:\n",
        "        if char.isalpha():\n",
        "            shifted = ord(char) + shift\n",
        "            if char.islower():\n",
        "                if shifted > ord('z'):\n",
        "                    shifted -= 26\n",
        "                elif shifted < ord('a'):\n",
        "                    shifted += 26\n",
        "            elif char.isupper():\n",
        "                if shifted > ord('Z'):\n",
        "                    shifted -= 26\n",
        "                elif shifted < ord('A'):\n",
        "                    shifted += 26\n",
        "            encrypted_text += chr(shifted)\n",
        "        else:\n",
        "            encrypted_text += char\n",
        "    return encrypted_text\n",
        "\n",
        "def caesar_cipher_decrypt(encrypted_text, shift):\n",
        "    return caesar_cipher_encrypt(encrypted_text, -shift)\n",
        "\n",
        "plaintext =input(\"Enter the plaintext:\")\n",
        "shift =int(input(\"Enter shift position:\"))\n",
        "encrypted = caesar_cipher_encrypt(plaintext, shift)\n",
        "print(\"Encrypted:\", encrypted)\n",
        "decrypted = caesar_cipher_decrypt(encrypted, shift)\n",
        "print(\"Decrypted:\", decrypted)"
      ],
      "metadata": {
        "colab": {
          "base_uri": "https://localhost:8080/"
        },
        "id": "hL86fGIxkTAZ",
        "outputId": "b871a769-6e60-4ab4-83e7-77c82bcf3728"
      },
      "execution_count": 9,
      "outputs": [
        {
          "output_type": "stream",
          "name": "stdout",
          "text": [
            "Enter the plaintext:hello\n",
            "Enter shift position:3\n",
            "Encrypted: khoor\n",
            "Decrypted: hello\n"
          ]
        }
      ]
    },
    {
      "cell_type": "markdown",
      "source": [
        "2) Vigenère Cipher\n",
        "\n",
        "Working:\n",
        "\n",
        "1) Encryption:\n",
        "Take the plaintext and a keyword.\n",
        "Repeat the keyword until it matches the length of the plaintext.\n",
        "For each letter in the plaintext:\n",
        "Use the corresponding letter from the repeated keyword to determine the shift.\n",
        "Shift the letter in the alphabet by the specified number of positions.\n",
        "Generate the ciphertext with the shifted letters.\n",
        "\n",
        "2) Decryption:\n",
        "Take the ciphertext and the same keyword used for encryption.\n",
        "Repeat the keyword until it matches the length of the ciphertext.\n",
        "For each letter in the ciphertext:\n",
        "Use the corresponding letter from the repeated keyword to determine the shift.\n",
        "Shift the letter in the reverse direction by the specified number of positions.\n",
        "Generate the plaintext with the shifted letters.\n",
        "\n"
      ],
      "metadata": {
        "id": "z0vhKI9akRSa"
      }
    },
    {
      "cell_type": "code",
      "source": [
        "t=input(\"enter message\")\n",
        "a=[]\n",
        "for i in range(len(t)):\n",
        "    b=t[i]\n",
        "    a.append(ord(b))\n",
        "key=input(\"enter key\")\n",
        "k=[]\n",
        "for i in range(len(key)):\n",
        "    b=key[i]\n",
        "    k.append(ord(b))\n",
        "\n",
        "l2=len(t)\n",
        "l1=len(key)\n",
        "i=0\n",
        "while l1<l2:\n",
        "    b=k[i]\n",
        "    k.append(b)\n",
        "    l1=l1+1\n",
        "    i=i+1\n",
        "\n",
        "c=[]\n",
        "for i in range(l1):\n",
        "    b= a[i]+k[i]\n",
        "    while b>122:\n",
        "        diff=b-122\n",
        "        b=96+diff\n",
        "    c.append(chr(b))\n",
        "encrypt=\"\".join(str(i) for i in c)\n",
        "print(\"encryption:\",encrypt)\n",
        "d=[]\n",
        "for i in range(l1):\n",
        "    b= ord(c[i])-k[i]\n",
        "    while b<97:\n",
        "        diff=97-b\n",
        "        b=123-diff\n",
        "    d.append(chr(b))\n",
        "decrypt=\"\".join(str(i) for i in d)\n",
        "print(\"decryption:\",decrypt)"
      ],
      "metadata": {
        "colab": {
          "base_uri": "https://localhost:8080/"
        },
        "id": "_U6YQRtIoImJ",
        "outputId": "52001132-b239-4672-8c5a-abcbcf69d9d7"
      },
      "execution_count": 18,
      "outputs": [
        {
          "output_type": "stream",
          "name": "stdout",
          "text": [
            "enter messagehello\n",
            "enter keykey\n",
            "encryption: kbcol\n",
            "decryption: hello\n"
          ]
        }
      ]
    },
    {
      "cell_type": "markdown",
      "source": [
        "1) RSA (Rivest-Shamir-Adleman)\n",
        "\n",
        "1.Key Generation:\n",
        "Imagine you have two big numbers that are secret (private keys), and you multiply them together to get an even bigger number (public key).\n",
        "The public key is used to lock messages, and the private keys are used to unlock them.\n",
        "\n",
        "2.Encryption:\n",
        "If you want to send a secret message to someone, you use their public key to lock it.\n",
        "You take your message, turn it into numbers, and do some math with the public key.\n",
        "The result is a scrambled version of your message that only the person with the private key can unscramble.\n",
        "\n",
        "3.Decryption:\n",
        "The person with the private key receives the scrambled message and uses their private key to unscramble it.\n",
        "They do some more math with their private key, and voila! They get back the original message"
      ],
      "metadata": {
        "id": "UU-zIBTgq1zD"
      }
    },
    {
      "cell_type": "code",
      "source": [
        "import random\n",
        "\n",
        "def gcd(a, b):\n",
        "    while b != 0:\n",
        "        a, b = b, a % b\n",
        "    return a\n",
        "\n",
        "def mod_inverse(a, m):\n",
        "    m0, x0, x1 = m, 0, 1\n",
        "    while a > 1:\n",
        "        q = a // m\n",
        "        m, a = a % m, m\n",
        "        x0, x1 = x1 - q * x0, x0\n",
        "    return x1 + m0 if x1 < 0 else x1\n",
        "\n",
        "def is_prime(n, k=5):\n",
        "    if n <= 1:\n",
        "        return False\n",
        "    if n <= 3:\n",
        "        return True\n",
        "    for _ in range(k):\n",
        "        a = random.randint(2, n - 1)\n",
        "        if gcd(n, a) != 1:\n",
        "            return False\n",
        "        if pow(a, n - 1, n) != 1:\n",
        "            return False\n",
        "    return True\n",
        "\n",
        "def generate_keypair(p, q):\n",
        "    if not (is_prime(p) and is_prime(q)):\n",
        "        raise ValueError(\"Both numbers must be prime.\")\n",
        "    n = p * q\n",
        "    phi = (p - 1) * (q - 1)\n",
        "    e = random.randrange(1, phi)\n",
        "    while gcd(e, phi) != 1:\n",
        "        e = random.randrange(1, phi)\n",
        "    d = mod_inverse(e, phi)\n",
        "    return ((e, n), (d, n))\n",
        "\n",
        "def encrypt(public_key, plaintext):\n",
        "    e, n = public_key\n",
        "    ciphertext = [pow(ord(char), e, n) for char in plaintext]\n",
        "    return ciphertext\n",
        "\n",
        "def decrypt(private_key, ciphertext):\n",
        "    d, n = private_key\n",
        "    plaintext = ''.join([chr(pow(char, d, n)) for char in ciphertext])\n",
        "    return plaintext\n",
        "\n",
        "p = int(input(\"Enter the value of p (Prime Number):\"))\n",
        "q = int(input(\"Enter the value of q (Prime Number):\"))\n",
        "public_key, private_key = generate_keypair(p, q)\n",
        "print(\"Public Key:\", public_key)\n",
        "print(\"Private Key:\", private_key)\n",
        "\n",
        "plaintext = input(\"Enter the plaintext:\")\n",
        "encrypted = encrypt(public_key, plaintext)\n",
        "print(\"Encrypted:\", encrypted)\n",
        "\n",
        "decrypted = decrypt(private_key, encrypted)\n",
        "print(\"Decrypted:\", decrypted)"
      ],
      "metadata": {
        "colab": {
          "base_uri": "https://localhost:8080/"
        },
        "id": "E6zYK-Lgrnjr",
        "outputId": "d8b85070-96fd-4062-a78d-c4111b4d6a1a"
      },
      "execution_count": 21,
      "outputs": [
        {
          "output_type": "stream",
          "name": "stdout",
          "text": [
            "Enter the value of p (Prime Number):53\n",
            "Enter the value of q (Prime Number):67\n",
            "Public Key: (311, 3551)\n",
            "Private Key: (1247, 3551)\n",
            "Enter the plaintext:hello\n",
            "Encrypted: [3312, 3095, 928, 928, 3530]\n",
            "Decrypted: hello\n"
          ]
        }
      ]
    },
    {
      "cell_type": "markdown",
      "source": [
        "2) ElGamal Encryption Algorithm\n",
        "\n",
        "1: Getting Keys:\n",
        "First, you and your friend each get two keys: a public key and a private key. Your private key is your own secret, while your public key can be shared with anyone.\n",
        "\n",
        "2: Sending a Secret Message:\n",
        "When you want to send a secret message to your friend:\n",
        "You put your message in a box and lock it with a special lock that only your friend can open.\n",
        "You also put a tag on the box that helps your friend find the right key to unlock it.\n",
        "\n",
        "3: Unlocking the Message:\n",
        "Your friend receives the locked box and looks at the tag to find the right key.\n",
        "Using their private key, they unlock the box and read your message."
      ],
      "metadata": {
        "id": "SFFgwOfrr8bL"
      }
    },
    {
      "cell_type": "code",
      "source": [
        "import random\n",
        "\n",
        "def gcd(a, b):\n",
        "    if a < b:\n",
        "        return gcd(b, a)\n",
        "    elif a % b == 0:\n",
        "        return b\n",
        "    else:\n",
        "        return gcd(b, a % b)\n",
        "\n",
        "def gen_key(q):\n",
        "    key = random.randint(pow(10, 20), q)\n",
        "    while gcd(q, key) != 1:\n",
        "        key = random.randint(pow(10, 20), q)\n",
        "    return key\n",
        "\n",
        "def power(a, b, c):\n",
        "    x = 1\n",
        "    y = a\n",
        "    while b > 0:\n",
        "        if b % 2 != 0:\n",
        "            x = (x * y) % c\n",
        "        y = (y * y) % c\n",
        "        b = int(b / 2)\n",
        "    return x % c\n",
        "\n",
        "def encrypt(msg, q, h, g):\n",
        "    en_msg = []\n",
        "    k = gen_key(q)  # Private key for sender\n",
        "    s = power(h, k, q)\n",
        "    p = power(g, k, q)\n",
        "    for i in range(len(msg)):\n",
        "        en_msg.append(msg[i])\n",
        "    for i in range(len(en_msg)):\n",
        "        en_msg[i] = s * ord(en_msg[i])\n",
        "    return en_msg, p\n",
        "\n",
        "def decrypt(en_msg, p, key, q):\n",
        "    dr_msg = []\n",
        "    h = power(p, key, q)\n",
        "    for i in range(len(en_msg)):\n",
        "        dr_msg.append(chr(int(en_msg[i] / h)))\n",
        "    return dr_msg\n",
        "\n",
        "def main():\n",
        "    msg = input(\"Enter the plaintext:\")\n",
        "    print(\"Original Message:\", msg)\n",
        "    q = random.randint(pow(10, 20), pow(10, 50))\n",
        "    g = random.randint(2, q)\n",
        "    key = gen_key(q)  # Private key for receiver\n",
        "    h = power(g, key, q)\n",
        "    print(\"g :\", g)\n",
        "    print(\"g^a ):\", h)\n",
        "    en_msg, p = encrypt(msg, q, h, g)\n",
        "    dr_msg = decrypt(en_msg, p, key, q)\n",
        "    dmsg = ''.join(dr_msg)\n",
        "    print(\"Decrypted Message:\", dmsg)\n",
        "\n",
        "if __name__ == '__main__':\n",
        "    main()"
      ],
      "metadata": {
        "colab": {
          "base_uri": "https://localhost:8080/"
        },
        "id": "THl00jP3sNWX",
        "outputId": "ed4f558b-970a-46e1-97a9-72ea93c767d8"
      },
      "execution_count": 24,
      "outputs": [
        {
          "output_type": "stream",
          "name": "stdout",
          "text": [
            "Enter the plaintext:hello\n",
            "Original Message: hello\n",
            "g : 8401074903477842389945552606349985898597465959113\n",
            "g^a ): 25251165183492562118972361055194104995473976888245\n",
            "Decrypted Message: hello\n"
          ]
        }
      ]
    },
    {
      "cell_type": "markdown",
      "source": [
        "Implement a hash function to compute the hash of a given string.\n",
        "\n",
        "1: Making the Secret Code:\n",
        "You give SHA-256 a message, like \"Hello, World!\".\n",
        " SHA-256 then performs some special math on the message to create a unique secret code.\n",
        "\n",
        "2: Special Math:\n",
        "SHA-256 breaks down the message into tiny pieces and mixes them up in a special way.\n",
        " It's like jumbling up letters in a word, but in a really complicated way that nobody can un-jumble.\n",
        "\n",
        "3: Creating the Code:\n",
        " After doing its special math, SHA-256 spits out a secret code.\n",
        " This code is a fixed size and looks like a long string of letters and numbers.\n",
        "\n",
        "4: Unique Codes:\n",
        "Even if you change just one tiny thing in the message, like adding a single letter, the secret code will completely change.\n",
        " This means each message has its very own unique secret code."
      ],
      "metadata": {
        "id": "5LgLt-0atWZ7"
      }
    },
    {
      "cell_type": "code",
      "source": [
        "import hashlib\n",
        "\n",
        "def compute_hash(input_string):\n",
        "    # Convert the input string to bytes\n",
        "    input_bytes = input_string.encode('utf-8')\n",
        "\n",
        "    # Compute the hash using SHA-256 algorithm\n",
        "    hash_result = hashlib.sha256(input_bytes).hexdigest()\n",
        "\n",
        "    return hash_result\n",
        "\n",
        "input_string =input(\"Enter the string:\")\n",
        "hash_result = compute_hash(input_string)\n",
        "print(\"Hash of '{}' is: {}\".format(input_string, hash_result))\n"
      ],
      "metadata": {
        "colab": {
          "base_uri": "https://localhost:8080/"
        },
        "id": "1YFweOiDuEXZ",
        "outputId": "f639c483-90e0-4cdc-b5b6-a085cda28b0d"
      },
      "execution_count": 25,
      "outputs": [
        {
          "output_type": "stream",
          "name": "stdout",
          "text": [
            "Enter the string:safna\n",
            "Hash of 'safna' is: 12789b35dc35410a16e009243e7af25e02f4587d64245b5b33a3b47af06b33e9\n"
          ]
        }
      ]
    }
  ]
}